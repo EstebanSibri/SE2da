{
 "cells": [
  {
   "cell_type": "code",
   "execution_count": 5,
   "metadata": {},
   "outputs": [],
   "source": [
    "Prueba Sistemas Expertos\n",
    "\n",
    "Se desea modelizar el conocimiento de un experto para la clasificación de enfermedades, basadas en las siguientes reglas.\n",
    "Se desea modelizar el conocimiento de un experto ginecólogo en cesáreas. \n",
    "Dicho conocimiento se ha extraido por medio de tres entrevistas para la realización de un sistema experto que ayude \n",
    "al médico en la toma de la decisión del tipo de cesárea a realizar.\n",
    "Se sabe que existen dos tipos de cesáreas: las previstas de antemano y las improvisadas durante el parto."
   ]
  },
  {
   "cell_type": "code",
   "execution_count": 6,
   "metadata": {},
   "outputs": [
    {
     "name": "stdout",
     "output_type": "stream",
     "text": [
      "BIENVENIDO \n",
      "\n",
      "Ingrese el numero de sintomas del paciente \n",
      "2\n",
      "Ingrese los sintomas del paciente \n",
      "paciente con fiebre\n",
      "Ingrese los sintomas del paciente \n",
      "paciente con cicatriz\n",
      "\n",
      "No se reconoce los sintomas del paciente.\n"
     ]
    }
   ],
   "source": [
    "from clips import Environment, Symbol\n",
    "\n",
    "environment = Environment()\n",
    "environment.load('pruebaSE.clp')\n",
    "environment.reset()\n",
    "environment.run()\n",
    "\n",
    "print(\"BIENVENIDO \\n\")\n",
    "\n",
    "a=int(input(\"Ingrese el numero de sintomas del paciente \\n\"))\n",
    "\n",
    "for n in range (a):\n",
    "    r1= input('Ingrese los sintomas del paciente \\n')\n",
    "    r1=r1.replace(\" \",\"-\")\n",
    "    environment.assert_string('(respuesta1 '+r1+')')\n",
    "    environment.run()\n",
    "i=0\n",
    "o=0\n",
    "u=0\n",
    "a=0\n",
    "e=0\n",
    "print(\"\")\n",
    "\n",
    "for fact in environment.facts():\n",
    "    if fact.template.name == 'es-CesariaAntemano':\n",
    "        print('Resultado: '+'La paciente debe realizarse una cesárea prevista')\n",
    "        a=1\n",
    "    if fact.template.name == 'es-Cesariaimprovisa':\n",
    "        print('Resultado: '+'La paciente debe realizarse una cesárea improvisa')\n",
    "        i=1\n",
    "    elif fact.template.name == 'es-incisionUmbilico':\n",
    "        print('Resultado: '+'se debe realizar una incisión Umbílico')\n",
    "        o=1\n",
    "    elif fact.template.name == 'es-transversalBaja':\n",
    "        print('Resultado: '+'cesárea del tipo transversal baja')\n",
    "        u=1\n",
    "    elif fact.template.name == 'es-JoelCoell':\n",
    "        print('Resultado: '+'cesárea del tipo Joel Coell')\n",
    "        e=1\n",
    "\n",
    "if(u==1 or o==1 or i==1):\n",
    "    print()\n",
    "else:\n",
    "    print(\"No se reconoce los sintomas del paciente.\")\n",
    "\n",
    "    "
   ]
  },
  {
   "cell_type": "code",
   "execution_count": null,
   "metadata": {},
   "outputs": [],
   "source": []
  }
 ],
 "metadata": {
  "kernelspec": {
   "display_name": "Python 3",
   "language": "python",
   "name": "python3"
  },
  "language_info": {
   "codemirror_mode": {
    "name": "ipython",
    "version": 3
   },
   "file_extension": ".py",
   "mimetype": "text/x-python",
   "name": "python",
   "nbconvert_exporter": "python",
   "pygments_lexer": "ipython3",
   "version": "3.8.3"
  }
 },
 "nbformat": 4,
 "nbformat_minor": 4
}
